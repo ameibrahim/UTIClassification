{
 "cells": [
  {
   "cell_type": "code",
   "execution_count": 1,
   "id": "6a605931",
   "metadata": {},
   "outputs": [],
   "source": [
    "from tensorflow.keras.models import load_model\n",
    "\n",
    "model = load_model(\"./models/UNU_Xception_Round1.keras\")  "
   ]
  },
  {
   "cell_type": "code",
   "execution_count": 4,
   "id": "0550fb5a",
   "metadata": {},
   "outputs": [],
   "source": [
    "import tensorflow as tf\n",
    "import numpy as np\n",
    "\n",
    "# Path to your image\n",
    "img_path = \"./no-uti-123.jpg\"\n",
    "\n",
    "# Load and preprocess the image\n",
    "img = tf.keras.utils.load_img(img_path, target_size=(224, 224))  # adjust if needed\n",
    "img_array = tf.keras.utils.img_to_array(img)\n",
    "img_array = img_array / 255.0  # normalize if model expects scaled input\n",
    "img_array = np.expand_dims(img_array, axis=0)  # add batch dimension\n"
   ]
  },
  {
   "cell_type": "code",
   "execution_count": 5,
   "id": "dc56b73f",
   "metadata": {},
   "outputs": [
    {
     "name": "stdout",
     "output_type": "stream",
     "text": [
      "\u001b[1m1/1\u001b[0m \u001b[32m━━━━━━━━━━━━━━━━━━━━\u001b[0m\u001b[37m\u001b[0m \u001b[1m1s\u001b[0m 709ms/step\n",
      "Predicted class index: 0\n",
      "Confidence: 0.91\n"
     ]
    }
   ],
   "source": [
    "predictions = model.predict(img_array)\n",
    "predicted_class = np.argmax(predictions, axis=1)[0]  # index of highest prob\n",
    "confidence = np.max(predictions)  # probability of predicted class\n",
    "\n",
    "print(f\"Predicted class index: {predicted_class}\")\n",
    "print(f\"Confidence: {confidence:.2f}\")\n"
   ]
  },
  {
   "cell_type": "code",
   "execution_count": 7,
   "id": "3964ca19",
   "metadata": {},
   "outputs": [
    {
     "name": "stdout",
     "output_type": "stream",
     "text": [
      "Predicted class: no-uti\n"
     ]
    }
   ],
   "source": [
    "class_names = ['no-uti', 'uti']\n",
    "print(f\"Predicted class: {class_names[predicted_class]}\")"
   ]
  }
 ],
 "metadata": {
  "kernelspec": {
   "display_name": "Python 3",
   "language": "python",
   "name": "python3"
  },
  "language_info": {
   "codemirror_mode": {
    "name": "ipython",
    "version": 3
   },
   "file_extension": ".py",
   "mimetype": "text/x-python",
   "name": "python",
   "nbconvert_exporter": "python",
   "pygments_lexer": "ipython3",
   "version": "3.9.6"
  }
 },
 "nbformat": 4,
 "nbformat_minor": 5
}
